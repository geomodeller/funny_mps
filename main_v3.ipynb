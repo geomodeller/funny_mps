{
 "cells": [
  {
   "cell_type": "code",
   "execution_count": 1,
   "metadata": {
    "colab": {
     "base_uri": "https://localhost:8080/"
    },
    "executionInfo": {
     "elapsed": 2979,
     "status": "ok",
     "timestamp": 1740069054256,
     "user": {
      "displayName": "Honggeun Jo",
      "userId": "01265114581469161587"
     },
     "user_tz": -540
    },
    "id": "mLUyf8eClXJy",
    "outputId": "eeebd763-d31a-4b89-c1f6-7216341999bc"
   },
   "outputs": [],
   "source": [
    "import matplotlib.pyplot as plt\n",
    "import numpy as np\n",
    "from sys import platform\n",
    "import itertools\n",
    "if platform == 'linux':\n",
    "  import os\n",
    "  from google.colab import drive\n",
    "  drive.mount('/content/drive')\n",
    "  try:\n",
    "    os.chdir('drive/MyDrive/HP Laptop/funny_mps')\n",
    "  except:\n",
    "    pass\n",
    "TI = np.loadtxt('ti_strebelle.dat', skiprows = 3)\n",
    "TI = TI.reshape(250,250,1)"
   ]
  },
  {
   "cell_type": "code",
   "execution_count": 27,
   "metadata": {
    "executionInfo": {
     "elapsed": 3,
     "status": "ok",
     "timestamp": 1740069054263,
     "user": {
      "displayName": "Honggeun Jo",
      "userId": "01265114581469161587"
     },
     "user_tz": -540
    },
    "id": "9U-R5cbXlOMD"
   },
   "outputs": [],
   "source": [
    "# define global parameters such as facies ratio, number of realizations, random seed, etc.\n",
    "random_seed = 77779\n",
    "n_real = 1\n",
    "real_nx, real_ny, real_nz = 40, 40, 1\n",
    "template_size = [3, 3, 1] # in x-, y-, and z- directions (odd number for better performance)\n",
    "unique_facies = list(np.unique(TI))\n",
    "facies_ratio = [np.sum(TI==f)/np.prod(TI.shape) for f in unique_facies]\n",
    "\n",
    "TI_x, TI_y, TI_z = TI.shape\n",
    "padding_x, padding_y, padding_z = int((template_size[0]-1)/2), int((template_size[1]-1)/2), int((template_size[2]-1)/2)\n",
    "\n",
    "center_index = int((np.prod(template_size)-1)/2)\n",
    "flag = [i for i in range(np.prod(template_size)) if i != center_index]"
   ]
  },
  {
   "cell_type": "code",
   "execution_count": 28,
   "metadata": {},
   "outputs": [],
   "source": [
    "def curate_training_image(TI: np.ndarray, template_size: list[int], percentage_2_use: float = 0.8):\n",
    "    # define the training image size and template size\n",
    "    TI_x, TI_y, TI_z = TI.shape\n",
    "    padding_x, padding_y, padding_z = int((template_size[0]-1)/2), int((template_size[1]-1)/2), int((template_size[2]-1)/2)\n",
    "    \n",
    "    # extract the training image to make a tabular form data\n",
    "    x_0, x_1 = int(0 +padding_x), int(TI_x - padding_x)\n",
    "    y_0, y_1 = int(0 +padding_y), int(TI_y - padding_y)\n",
    "    z_0, z_1 = int(0 +padding_z), int(TI_z - padding_z)\n",
    "    \n",
    "    template_size_x, template_size_y, template_size_z = (x_1 - x_0), (y_1 - y_0), (z_1 - z_0)\n",
    "    data = np.zeros((np.prod([template_size_x, template_size_y, template_size_y]), np.prod(template_size)))\n",
    "    for zi, z  in enumerate(range(z_0, z_1)):\n",
    "        for yi, y  in enumerate(range(y_0, y_1)):\n",
    "            for xi, x in enumerate(range(x_0, x_1)):\n",
    "                for i, [tx, ty, tz] in enumerate(itertools.product(range(template_size[0]),\n",
    "                                                                range(template_size[1]),\n",
    "                                                                range(template_size[2]))):\n",
    "                    data[xi + yi*template_size_x + zi*template_size_x*template_size_y, i] = TI[x-(tx+padding_x), y-(ty+padding_y), z-(tz+padding_z)]\n",
    "\n",
    "    # train some ML model the above tabular data\n",
    "    center_index = int((np.prod(template_size)-1)/2)\n",
    "    flag = [i for i in range(np.prod(template_size)) if i != center_index]\n",
    "    data_x = data[:, flag].reshape(-1, np.prod(template_size)-1)\n",
    "    data_y = data[:, center_index].reshape(-1, 1)\n",
    "    if percentage_2_use < 1:\n",
    "        mask = np.random.choice(np.arange(data_x.shape[0]), int(percentage_2_use*data_x.shape[0]), replace=False)\n",
    "        data_x = data_x[mask]\n",
    "        data_y = data_y[mask]\n",
    "    return data_x, data_y"
   ]
  },
  {
   "cell_type": "code",
   "execution_count": 35,
   "metadata": {
    "executionInfo": {
     "elapsed": 4,
     "status": "ok",
     "timestamp": 1740069100239,
     "user": {
      "displayName": "Honggeun Jo",
      "userId": "01265114581469161587"
     },
     "user_tz": -540
    },
    "id": "olsCQQeTlOME"
   },
   "outputs": [],
   "source": [
    "data_x, data_y = curate_training_image(TI, template_size, 0.05)"
   ]
  },
  {
   "cell_type": "code",
   "execution_count": 36,
   "metadata": {
    "executionInfo": {
     "elapsed": 473,
     "status": "ok",
     "timestamp": 1740064791248,
     "user": {
      "displayName": "Honggeun Jo",
      "userId": "01265114581469161587"
     },
     "user_tz": -540
    },
    "id": "xo_rL5RvlOMG"
   },
   "outputs": [],
   "source": [
    "# TODO: generate model\n",
    "realization = np.ones((real_nx+2*padding_x, real_ny+2*padding_x, real_nz+2*padding_z))*-1\n",
    "x_0, x_1 = int(0 +padding_x), int(realization.shape[0] - padding_x)\n",
    "y_0, y_1 = int(0 +padding_y), int(realization.shape[1] - padding_y)\n",
    "z_0, z_1 = int(0 +padding_z), int(realization.shape[2] - padding_z)\n",
    "xx, yy, zz = np.meshgrid(range(x_0, x_1), range(y_0, y_1), range(z_0, z_1))\n",
    "random_path = np.array([i.flatten() for i in [xx, yy, zz]])\n",
    "np.random.seed(random_seed)\n",
    "np.random.shuffle(random_path.T)"
   ]
  },
  {
   "cell_type": "code",
   "execution_count": 38,
   "metadata": {},
   "outputs": [
    {
     "name": "stderr",
     "output_type": "stream",
     "text": [
      "87it [00:03, 25.44it/s]C:\\Users\\jhg13\\AppData\\Local\\Temp\\ipykernel_27716\\2582269258.py:10: RuntimeWarning: invalid value encountered in divide\n",
      "  return np.random.choice(unique_facies, p=counts/np.sum(counts))\n",
      "1600it [01:11, 22.42it/s]\n"
     ]
    }
   ],
   "source": [
    "from tqdm import tqdm\n",
    "def predictive_model(input_x:np.array) -> float:\n",
    "    if np.all(input_x == -1):\n",
    "        return np.random.choice(unique_facies, p=facies_ratio)\n",
    "    else:\n",
    "        data_x_new = data_x[:, np.where(input_x!=-1)[1]]\n",
    "        input_x = input_x[:,np.where(input_x!=-1)[1]]\n",
    "        counts = np.array([(data_y[np.all(data_x_new==input_x, axis = 1)] == i).sum() for i in unique_facies])\n",
    "        try:\n",
    "            return np.random.choice(unique_facies, p=counts/np.sum(counts))\n",
    "        except:\n",
    "            print(counts)\n",
    "            return np.random.choice(unique_facies, p=facies_ratio)\n",
    "for ii, jj, kk in tqdm(zip(random_path[0].T, random_path[1].T, random_path[2].T)):\n",
    "    template = realization[ii-padding_x:ii+(padding_x+1),\n",
    "                           jj-padding_y:jj+(padding_y+1),\n",
    "                           kk-padding_z:kk+(padding_z+1)].copy().flatten()\n",
    "    input_x = template[flag].reshape(1,-1)  \n",
    "    realization[ii, jj, kk] = predictive_model(input_x)\n",
    "  "
   ]
  },
  {
   "cell_type": "code",
   "execution_count": 39,
   "metadata": {},
   "outputs": [
    {
     "data": {
      "text/plain": [
       "<matplotlib.image.AxesImage at 0x2d130d7f0d0>"
      ]
     },
     "execution_count": 39,
     "metadata": {},
     "output_type": "execute_result"
    },
    {
     "data": {
      "image/png": "[encoded data removed]",
      "text/plain": [
       "<Figure size 640x480 with 1 Axes>"
      ]
     },
     "metadata": {},
     "output_type": "display_data"
    }
   ],
   "source": [
    "plt.imshow(realization.squeeze())"
   ]
  }
 ],
 "metadata": {
  "colab": {
   "provenance": [
    {
     "file_id": "https://github.com/geomodeller/funny_mps/blob/main/main.ipynb",
     "timestamp": 1740059087727
    }
   ]
  },
  "kernelspec": {
   "display_name": "Python 3",
   "language": "python",
   "name": "python3"
  },
  "language_info": {
   "codemirror_mode": {
    "name": "ipython",
    "version": 3
   },
   "file_extension": ".py",
   "mimetype": "text/x-python",
   "name": "python",
   "nbconvert_exporter": "python",
   "pygments_lexer": "ipython3",
   "version": "3.11.2"
  }
 },
 "nbformat": 4,
 "nbformat_minor": 0
}
