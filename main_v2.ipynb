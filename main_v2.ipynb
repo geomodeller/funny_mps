{
 "cells": [
  {
   "cell_type": "code",
   "execution_count": 149,
   "metadata": {
    "colab": {
     "base_uri": "https://localhost:8080/"
    },
    "executionInfo": {
     "elapsed": 2979,
     "status": "ok",
     "timestamp": 1740069054256,
     "user": {
      "displayName": "Honggeun Jo",
      "userId": "01265114581469161587"
     },
     "user_tz": -540
    },
    "id": "mLUyf8eClXJy",
    "outputId": "eeebd763-d31a-4b89-c1f6-7216341999bc"
   },
   "outputs": [],
   "source": [
    "import matplotlib.pyplot as plt\n",
    "import numpy as np\n",
    "from sys import platform\n",
    "import itertools\n",
    "if platform == 'linux':\n",
    "  import os\n",
    "  from google.colab import drive\n",
    "  drive.mount('/content/drive')\n",
    "  try:\n",
    "    os.chdir('drive/MyDrive/HP Laptop/funny_mps')\n",
    "  except:\n",
    "    pass\n",
    "TI = np.loadtxt('ti_strebelle.dat', skiprows = 3)\n",
    "TI = TI.reshape(250,250,1)"
   ]
  },
  {
   "cell_type": "code",
   "execution_count": 150,
   "metadata": {
    "executionInfo": {
     "elapsed": 3,
     "status": "ok",
     "timestamp": 1740069054263,
     "user": {
      "displayName": "Honggeun Jo",
      "userId": "01265114581469161587"
     },
     "user_tz": -540
    },
    "id": "9U-R5cbXlOMD"
   },
   "outputs": [],
   "source": [
    "# define global parameters such as facies ratio, number of realizations, random seed, etc.\n",
    "random_seed = 77777\n",
    "n_real = 1\n",
    "real_nx, real_ny, real_nz = 50, 50, 1\n",
    "template_size = [3, 3, 1] # in x-, y-, and z- directions (odd number for better performance)\n",
    "unique_facies = list(np.unique(TI))\n",
    "facies_ratio = [np.sum(TI==f)/np.prod(TI.shape) for f in unique_facies]\n",
    "\n",
    "TI_x, TI_y, TI_z = TI.shape\n",
    "padding_x, padding_y, padding_z = int((template_size[0]-1)/2), int((template_size[1]-1)/2), int((template_size[2]-1)/2)\n",
    "\n",
    "center_index = int((np.prod(template_size)-1)/2)\n",
    "flag = [i for i in range(np.prod(template_size)) if i != center_index]"
   ]
  },
  {
   "cell_type": "code",
   "execution_count": 151,
   "metadata": {},
   "outputs": [],
   "source": [
    "def curate_training_image(TI: np.ndarray, template_size: list[int]):\n",
    "    # define the training image size and template size\n",
    "    TI_x, TI_y, TI_z = TI.shape\n",
    "    padding_x, padding_y, padding_z = int((template_size[0]-1)/2), int((template_size[1]-1)/2), int((template_size[2]-1)/2)\n",
    "    \n",
    "    # extract the training image to make a tabular form data\n",
    "    x_0, x_1 = int(0 +padding_x), int(TI_x - padding_x)\n",
    "    y_0, y_1 = int(0 +padding_y), int(TI_y - padding_y)\n",
    "    z_0, z_1 = int(0 +padding_z), int(TI_z - padding_z)\n",
    "    \n",
    "    template_size_x, template_size_y, template_size_z = (x_1 - x_0), (y_1 - y_0), (z_1 - z_0)\n",
    "    data = np.zeros((np.prod([template_size_x, template_size_y, template_size_y]), np.prod(template_size)))\n",
    "    for zi, z  in enumerate(range(z_0, z_1)):\n",
    "        for yi, y  in enumerate(range(y_0, y_1)):\n",
    "            for xi, x in enumerate(range(x_0, x_1)):\n",
    "                for i, [tx, ty, tz] in enumerate(itertools.product(range(template_size[0]),\n",
    "                                                                range(template_size[1]),\n",
    "                                                                range(template_size[2]))):\n",
    "                    data[xi + yi*template_size_x + zi*template_size_x*template_size_y, i] = TI[x-(tx+padding_x), y-(ty+padding_y), z-(tz+padding_z)]\n",
    "\n",
    "    # train some ML model the above tabular data\n",
    "    center_index = int((np.prod(template_size)-1)/2)\n",
    "    flag = [i for i in range(np.prod(template_size)) if i != center_index]\n",
    "    data_x = data[:, flag].reshape(-1, np.prod(template_size)-1)\n",
    "    data_y = data[:, center_index].reshape(-1, 1)\n",
    "\n",
    "    return data_x, data_y"
   ]
  },
  {
   "cell_type": "code",
   "execution_count": 207,
   "metadata": {
    "executionInfo": {
     "elapsed": 4,
     "status": "ok",
     "timestamp": 1740069100239,
     "user": {
      "displayName": "Honggeun Jo",
      "userId": "01265114581469161587"
     },
     "user_tz": -540
    },
    "id": "olsCQQeTlOME"
   },
   "outputs": [],
   "source": [
    "data_x, data_y = curate_training_image(TI, template_size)"
   ]
  },
  {
   "cell_type": "code",
   "execution_count": 208,
   "metadata": {
    "executionInfo": {
     "elapsed": 473,
     "status": "ok",
     "timestamp": 1740064791248,
     "user": {
      "displayName": "Honggeun Jo",
      "userId": "01265114581469161587"
     },
     "user_tz": -540
    },
    "id": "xo_rL5RvlOMG"
   },
   "outputs": [],
   "source": [
    "# TODO: generate model\n",
    "realization = np.ones((real_nx+2*padding_x, real_ny+2*padding_x, real_nz+2*padding_z))*-1\n",
    "x_0, x_1 = int(0 +padding_x), int(realization.shape[0] - padding_x)\n",
    "y_0, y_1 = int(0 +padding_y), int(realization.shape[1] - padding_y)\n",
    "z_0, z_1 = int(0 +padding_z), int(realization.shape[2] - padding_z)\n",
    "xx, yy, zz = np.meshgrid(range(x_0, x_1), range(y_0, y_1), range(z_0, z_1))\n",
    "random_path = np.array([i.flatten() for i in [xx, yy, zz]])\n",
    "np.random.seed(random_seed)\n",
    "np.random.shuffle(random_path.T)"
   ]
  },
  {
   "cell_type": "code",
   "execution_count": null,
   "metadata": {},
   "outputs": [],
   "source": [
    "import numpy as np\n",
    "\n",
    "def get_valid_indices(input_x):\n",
    "    \"\"\"Returns the indices of non-missing values in input_x.\"\"\"\n",
    "    return np.where(input_x != -1)[1]\n",
    "\n",
    "def filter_data(input_x, indices):\n",
    "    \"\"\"Filters input_x and data_x using valid indices.\"\"\"\n",
    "    return data_x[:, indices], input_x[:, indices]\n",
    "\n",
    "def compute_facies_probabilities(data_x_new, input_x):\n",
    "    \"\"\"Computes the probability distribution for facies selection.\"\"\"\n",
    "    mask = np.all(data_x_new == input_x, axis=1)\n",
    "    counts = np.bincount(data_y[mask], minlength=len(unique_facies))\n",
    "    return counts / np.sum(counts) if np.sum(counts) > 0 else facies_ratio\n",
    "\n",
    "def predictive_model(input_x):\n",
    "    \"\"\"Predicts the facies category based on input_x.\"\"\"\n",
    "    if np.all(input_x == -1):\n",
    "        return np.random.choice(unique_facies, p=facies_ratio)1\n",
    "    \n",
    "    valid_indices = get_valid_indices(input_x)\n",
    "    data_x_new, input_x_filtered = filter_data(input_x, valid_indices)\n",
    "    probabilities = compute_facies_probabilities(data_x_new, input_x_filtered)\n",
    "    \n",
    "    return np.random.choice(unique_facies, p=probabilities)\n"
   ]
  },
  {
   "cell_type": "code",
   "execution_count": 210,
   "metadata": {},
   "outputs": [
    {
     "name": "stderr",
     "output_type": "stream",
     "text": [
      "1274it [09:01,  2.35it/s]\n"
     ]
    },
    {
     "ename": "KeyboardInterrupt",
     "evalue": "",
     "output_type": "error",
     "traceback": [
      "\u001b[1;31m---------------------------------------------------------------------------\u001b[0m",
      "\u001b[1;31mKeyboardInterrupt\u001b[0m                         Traceback (most recent call last)",
      "Cell \u001b[1;32mIn[210], line 15\u001b[0m\n\u001b[0;32m     11\u001b[0m template \u001b[38;5;241m=\u001b[39m realization[ii\u001b[38;5;241m-\u001b[39mpadding_x:ii\u001b[38;5;241m+\u001b[39m(padding_x\u001b[38;5;241m+\u001b[39m\u001b[38;5;241m1\u001b[39m),\n\u001b[0;32m     12\u001b[0m                        jj\u001b[38;5;241m-\u001b[39mpadding_y:jj\u001b[38;5;241m+\u001b[39m(padding_y\u001b[38;5;241m+\u001b[39m\u001b[38;5;241m1\u001b[39m),\n\u001b[0;32m     13\u001b[0m                        kk\u001b[38;5;241m-\u001b[39mpadding_z:kk\u001b[38;5;241m+\u001b[39m(padding_z\u001b[38;5;241m+\u001b[39m\u001b[38;5;241m1\u001b[39m)]\u001b[38;5;241m.\u001b[39mcopy()\u001b[38;5;241m.\u001b[39mflatten()\n\u001b[0;32m     14\u001b[0m input_x \u001b[38;5;241m=\u001b[39m template[flag]\u001b[38;5;241m.\u001b[39mreshape(\u001b[38;5;241m1\u001b[39m,\u001b[38;5;241m-\u001b[39m\u001b[38;5;241m1\u001b[39m)  \n\u001b[1;32m---> 15\u001b[0m realization[ii, jj, kk] \u001b[38;5;241m=\u001b[39m \u001b[43mpredictive_model\u001b[49m\u001b[43m(\u001b[49m\u001b[43minput_x\u001b[49m\u001b[43m)\u001b[49m\n",
      "Cell \u001b[1;32mIn[210], line 8\u001b[0m, in \u001b[0;36mpredictive_model\u001b[1;34m(input_x)\u001b[0m\n\u001b[0;32m      6\u001b[0m data_x_new \u001b[38;5;241m=\u001b[39m data_x[:, np\u001b[38;5;241m.\u001b[39mwhere(input_x\u001b[38;5;241m!=\u001b[39m\u001b[38;5;241m-\u001b[39m\u001b[38;5;241m1\u001b[39m)[\u001b[38;5;241m1\u001b[39m]]\n\u001b[0;32m      7\u001b[0m input_x \u001b[38;5;241m=\u001b[39m input_x[:,np\u001b[38;5;241m.\u001b[39mwhere(input_x\u001b[38;5;241m!=\u001b[39m\u001b[38;5;241m-\u001b[39m\u001b[38;5;241m1\u001b[39m)[\u001b[38;5;241m1\u001b[39m]]\n\u001b[1;32m----> 8\u001b[0m counts \u001b[38;5;241m=\u001b[39m np\u001b[38;5;241m.\u001b[39marray(\u001b[43m[\u001b[49m\u001b[43m(\u001b[49m\u001b[43mdata_y\u001b[49m\u001b[43m[\u001b[49m\u001b[43mnp\u001b[49m\u001b[38;5;241;43m.\u001b[39;49m\u001b[43mall\u001b[49m\u001b[43m(\u001b[49m\u001b[43mdata_x_new\u001b[49m\u001b[38;5;241;43m==\u001b[39;49m\u001b[43minput_x\u001b[49m\u001b[43m,\u001b[49m\u001b[43m \u001b[49m\u001b[43maxis\u001b[49m\u001b[43m \u001b[49m\u001b[38;5;241;43m=\u001b[39;49m\u001b[43m \u001b[49m\u001b[38;5;241;43m1\u001b[39;49m\u001b[43m)\u001b[49m\u001b[43m]\u001b[49m\u001b[43m \u001b[49m\u001b[38;5;241;43m==\u001b[39;49m\u001b[43m \u001b[49m\u001b[43mi\u001b[49m\u001b[43m)\u001b[49m\u001b[38;5;241;43m.\u001b[39;49m\u001b[43msum\u001b[49m\u001b[43m(\u001b[49m\u001b[43m)\u001b[49m\u001b[43m \u001b[49m\u001b[38;5;28;43;01mfor\u001b[39;49;00m\u001b[43m \u001b[49m\u001b[43mi\u001b[49m\u001b[43m \u001b[49m\u001b[38;5;129;43;01min\u001b[39;49;00m\u001b[43m \u001b[49m\u001b[43munique_facies\u001b[49m\u001b[43m]\u001b[49m)\n\u001b[0;32m      9\u001b[0m \u001b[38;5;28;01mreturn\u001b[39;00m np\u001b[38;5;241m.\u001b[39mrandom\u001b[38;5;241m.\u001b[39mchoice(unique_facies, p\u001b[38;5;241m=\u001b[39mcounts\u001b[38;5;241m/\u001b[39mnp\u001b[38;5;241m.\u001b[39msum(counts))\n",
      "Cell \u001b[1;32mIn[210], line 8\u001b[0m, in \u001b[0;36m<listcomp>\u001b[1;34m(.0)\u001b[0m\n\u001b[0;32m      6\u001b[0m data_x_new \u001b[38;5;241m=\u001b[39m data_x[:, np\u001b[38;5;241m.\u001b[39mwhere(input_x\u001b[38;5;241m!=\u001b[39m\u001b[38;5;241m-\u001b[39m\u001b[38;5;241m1\u001b[39m)[\u001b[38;5;241m1\u001b[39m]]\n\u001b[0;32m      7\u001b[0m input_x \u001b[38;5;241m=\u001b[39m input_x[:,np\u001b[38;5;241m.\u001b[39mwhere(input_x\u001b[38;5;241m!=\u001b[39m\u001b[38;5;241m-\u001b[39m\u001b[38;5;241m1\u001b[39m)[\u001b[38;5;241m1\u001b[39m]]\n\u001b[1;32m----> 8\u001b[0m counts \u001b[38;5;241m=\u001b[39m np\u001b[38;5;241m.\u001b[39marray([(data_y[\u001b[43mnp\u001b[49m\u001b[38;5;241;43m.\u001b[39;49m\u001b[43mall\u001b[49m\u001b[43m(\u001b[49m\u001b[43mdata_x_new\u001b[49m\u001b[38;5;241;43m==\u001b[39;49m\u001b[43minput_x\u001b[49m\u001b[43m,\u001b[49m\u001b[43m \u001b[49m\u001b[43maxis\u001b[49m\u001b[43m \u001b[49m\u001b[38;5;241;43m=\u001b[39;49m\u001b[43m \u001b[49m\u001b[38;5;241;43m1\u001b[39;49m\u001b[43m)\u001b[49m] \u001b[38;5;241m==\u001b[39m i)\u001b[38;5;241m.\u001b[39msum() \u001b[38;5;28;01mfor\u001b[39;00m i \u001b[38;5;129;01min\u001b[39;00m unique_facies])\n\u001b[0;32m      9\u001b[0m \u001b[38;5;28;01mreturn\u001b[39;00m np\u001b[38;5;241m.\u001b[39mrandom\u001b[38;5;241m.\u001b[39mchoice(unique_facies, p\u001b[38;5;241m=\u001b[39mcounts\u001b[38;5;241m/\u001b[39mnp\u001b[38;5;241m.\u001b[39msum(counts))\n",
      "File \u001b[1;32m<__array_function__ internals>:177\u001b[0m, in \u001b[0;36mall\u001b[1;34m(*args, **kwargs)\u001b[0m\n",
      "\u001b[1;31mKeyboardInterrupt\u001b[0m: "
     ]
    }
   ],
   "source": [
    "from tqdm import tqdm\n",
    "def predictive_model(input_x:np.array) -> float:\n",
    "    if np.all(input_x == -1):\n",
    "        return np.random.choice(unique_facies, p=facies_ratio)\n",
    "    else:\n",
    "        data_x_new = data_x[:, np.where(input_x!=-1)[1]]\n",
    "        input_x = input_x[:,np.where(input_x!=-1)[1]]\n",
    "        counts = np.array([(data_y[np.all(data_x_new==input_x, axis = 1)] == i).sum() for i in unique_facies])\n",
    "        return np.random.choice(unique_facies, p=counts/np.sum(counts))\n",
    "for ii, jj, kk in tqdm(zip(random_path[0].T, random_path[1].T, random_path[2].T)):\n",
    "    template = realization[ii-padding_x:ii+(padding_x+1),\n",
    "                           jj-padding_y:jj+(padding_y+1),\n",
    "                           kk-padding_z:kk+(padding_z+1)].copy().flatten()\n",
    "    input_x = template[flag].reshape(1,-1)  \n",
    "    realization[ii, jj, kk] = predictive_model(input_x)\n",
    "  "
   ]
  },
  {
   "cell_type": "code",
   "execution_count": 203,
   "metadata": {},
   "outputs": [
    {
     "name": "stderr",
     "output_type": "stream",
     "text": [
      "0it [00:00, ?it/s]\n"
     ]
    },
    {
     "ename": "ValueError",
     "evalue": "object too deep for desired array",
     "output_type": "error",
     "traceback": [
      "\u001b[1;31m---------------------------------------------------------------------------\u001b[0m",
      "\u001b[1;31mValueError\u001b[0m                                Traceback (most recent call last)",
      "Cell \u001b[1;32mIn[203], line 20\u001b[0m\n\u001b[0;32m     15\u001b[0m subarray \u001b[38;5;241m=\u001b[39m realization[ii\u001b[38;5;241m-\u001b[39mpadding_x:ii\u001b[38;5;241m+\u001b[39mpadding_x\u001b[38;5;241m+\u001b[39m\u001b[38;5;241m1\u001b[39m,\n\u001b[0;32m     16\u001b[0m                        jj\u001b[38;5;241m-\u001b[39mpadding_y:jj\u001b[38;5;241m+\u001b[39mpadding_y\u001b[38;5;241m+\u001b[39m\u001b[38;5;241m1\u001b[39m,\n\u001b[0;32m     17\u001b[0m                        kk\u001b[38;5;241m-\u001b[39mpadding_z:kk\u001b[38;5;241m+\u001b[39mpadding_z\u001b[38;5;241m+\u001b[39m\u001b[38;5;241m1\u001b[39m]\u001b[38;5;241m.\u001b[39mflatten()\n\u001b[0;32m     19\u001b[0m input_x \u001b[38;5;241m=\u001b[39m subarray[flag]\u001b[38;5;241m.\u001b[39mreshape(\u001b[38;5;241m1\u001b[39m, \u001b[38;5;241m-\u001b[39m\u001b[38;5;241m1\u001b[39m)\n\u001b[1;32m---> 20\u001b[0m realization[ii, jj, kk] \u001b[38;5;241m=\u001b[39m \u001b[43mpredictive_model\u001b[49m\u001b[43m(\u001b[49m\u001b[43mdata_x\u001b[49m\u001b[43m,\u001b[49m\u001b[43m \u001b[49m\u001b[43mdata_y\u001b[49m\u001b[43m,\u001b[49m\u001b[43m \u001b[49m\u001b[43minput_x\u001b[49m\u001b[43m)\u001b[49m\n",
      "Cell \u001b[1;32mIn[203], line 10\u001b[0m, in \u001b[0;36mpredictive_model\u001b[1;34m(data_x, data_y, input_x)\u001b[0m\n\u001b[0;32m      7\u001b[0m data_x_new \u001b[38;5;241m=\u001b[39m data_x[:, valid_indices]\n\u001b[0;32m      9\u001b[0m mask \u001b[38;5;241m=\u001b[39m np\u001b[38;5;241m.\u001b[39mall(data_x_new \u001b[38;5;241m==\u001b[39m input_x_filtered, axis\u001b[38;5;241m=\u001b[39m\u001b[38;5;241m1\u001b[39m)\n\u001b[1;32m---> 10\u001b[0m counts \u001b[38;5;241m=\u001b[39m \u001b[43mnp\u001b[49m\u001b[38;5;241;43m.\u001b[39;49m\u001b[43mbincount\u001b[49m\u001b[43m(\u001b[49m\u001b[43mdata_y\u001b[49m\u001b[43m[\u001b[49m\u001b[43mmask\u001b[49m\u001b[43m]\u001b[49m\u001b[43m,\u001b[49m\u001b[43m \u001b[49m\u001b[43mminlength\u001b[49m\u001b[38;5;241;43m=\u001b[39;49m\u001b[38;5;28;43mlen\u001b[39;49m\u001b[43m(\u001b[49m\u001b[43munique_facies\u001b[49m\u001b[43m)\u001b[49m\u001b[43m)\u001b[49m\n\u001b[0;32m     12\u001b[0m \u001b[38;5;28;01mreturn\u001b[39;00m np\u001b[38;5;241m.\u001b[39mrandom\u001b[38;5;241m.\u001b[39mchoice(unique_facies, p\u001b[38;5;241m=\u001b[39mcounts \u001b[38;5;241m/\u001b[39m np\u001b[38;5;241m.\u001b[39msum(counts))\n",
      "File \u001b[1;32m<__array_function__ internals>:200\u001b[0m, in \u001b[0;36mbincount\u001b[1;34m(*args, **kwargs)\u001b[0m\n",
      "\u001b[1;31mValueError\u001b[0m: object too deep for desired array"
     ]
    }
   ],
   "source": [
    "import numpy as np\n",
    "\n",
    "def get_valid_indices(input_x):\n",
    "    \"\"\"Returns the indices of non-missing values in input_x.\"\"\"\n",
    "    return np.where(input_x != -1)[1]\n",
    "\n",
    "def filter_data(input_x, indices):\n",
    "    \"\"\"Filters input_x and data_x using valid indices.\"\"\"\n",
    "    return data_x[:, indices], input_x[:, indices]\n",
    "\n",
    "def compute_facies_probabilities(data_x_new, input_x):\n",
    "    \"\"\"Computes the probability distribution for facies selection.\"\"\"\n",
    "    mask = np.all(data_x_new == input_x, axis=1)\n",
    "    counts = np.bincount(data_y[mask], minlength=len(unique_facies))\n",
    "    return counts / np.sum(counts) if np.sum(counts) > 0 else facies_ratio\n",
    "\n",
    "def predictive_model(input_x):\n",
    "    \"\"\"Predicts the facies category based on input_x.\"\"\"\n",
    "    if np.all(input_x == -1):\n",
    "        return np.random.choice(unique_facies, p=facies_ratio)1\n",
    "    \n",
    "    valid_indices = get_valid_indices(input_x)\n",
    "    data_x_new, input_x_filtered = filter_data(input_x, valid_indices)\n",
    "    probabilities = compute_facies_probabilities(data_x_new, input_x_filtered)\n",
    "    \n",
    "    return np.random.choice(unique_facies, p=probabilities)\n",
    "\n",
    "for ii, jj, kk in tqdm(zip(random_path[0].T, random_path[1].T, random_path[2].T)):\n",
    "    template = realization[ii-padding_x:ii+(padding_x+1),\n",
    "                           jj-padding_y:jj+(padding_y+1),\n",
    "                           kk-padding_z:kk+(padding_z+1)].copy().flatten()\n",
    "    input_x = template[flag].reshape(1,-1)  \n",
    "    realization[ii, jj, kk] = predictive_model(input_x)\n"
   ]
  },
  {
   "cell_type": "code",
   "execution_count": 211,
   "metadata": {},
   "outputs": [],
   "source": [
    "realization = realization[padding_x:realization.shape[0]-padding_x, padding_y:realization.shape[1]-padding_y, padding_z:realization.shape[2]-padding_z]"
   ]
  },
  {
   "cell_type": "markdown",
   "metadata": {
    "id": "HNuq6WGjuP_q"
   },
   "source": []
  },
  {
   "cell_type": "code",
   "execution_count": 212,
   "metadata": {
    "executionInfo": {
     "elapsed": 4,
     "status": "ok",
     "timestamp": 1740064793202,
     "user": {
      "displayName": "Honggeun Jo",
      "userId": "01265114581469161587"
     },
     "user_tz": -540
    },
    "id": "DdbBOSQIuKla"
   },
   "outputs": [
    {
     "data": {
      "text/plain": [
       "<matplotlib.image.AxesImage at 0x208e5085dd0>"
      ]
     },
     "execution_count": 212,
     "metadata": {},
     "output_type": "execute_result"
    },
    {
     "data": {
      "image/png": "[encoded data removed]",
      "text/plain": [
       "<Figure size 640x480 with 1 Axes>"
      ]
     },
     "metadata": {},
     "output_type": "display_data"
    }
   ],
   "source": [
    "plt.imshow(realization.squeeze())"
   ]
  },
  {
   "cell_type": "code",
   "execution_count": null,
   "metadata": {
    "colab": {
     "base_uri": "https://localhost:8080/",
     "height": 449
    },
    "executionInfo": {
     "elapsed": 181,
     "status": "ok",
     "timestamp": 1740064889928,
     "user": {
      "displayName": "Honggeun Jo",
      "userId": "01265114581469161587"
     },
     "user_tz": -540
    },
    "id": "6kdSs46fpmJZ",
    "outputId": "668e801c-c911-4d85-d5e3-c58b3d74d92b"
   },
   "outputs": [
    {
     "data": {
      "text/plain": [
       "<matplotlib.image.AxesImage at 0x208f6c67ed0>"
      ]
     },
     "execution_count": 161,
     "metadata": {},
     "output_type": "execute_result"
    },
    {
     "data": {
      "image/png": "[encoded data removed]",
      "text/plain": [
       "<Figure size 640x480 with 1 Axes>"
      ]
     },
     "metadata": {},
     "output_type": "display_data"
    }
   ],
   "source": []
  },
  {
   "cell_type": "code",
   "execution_count": null,
   "metadata": {
    "colab": {
     "base_uri": "https://localhost:8080/"
    },
    "executionInfo": {
     "elapsed": 20,
     "status": "ok",
     "timestamp": 1740060030840,
     "user": {
      "displayName": "Honggeun Jo",
      "userId": "01265114581469161587"
     },
     "user_tz": -540
    },
    "id": "SgZ_zqY6qIe9",
    "outputId": "24f6943e-9837-4e26-afc7-13a34eb89403"
   },
   "outputs": [
    {
     "data": {
      "text/plain": [
       "(3, 10000)"
      ]
     },
     "execution_count": 52,
     "metadata": {},
     "output_type": "execute_result"
    }
   ],
   "source": [
    "random_path.shape"
   ]
  }
 ],
 "metadata": {
  "colab": {
   "provenance": [
    {
     "file_id": "https://github.com/geomodeller/funny_mps/blob/main/main.ipynb",
     "timestamp": 1740059087727
    }
   ]
  },
  "kernelspec": {
   "display_name": "Python 3",
   "language": "python",
   "name": "python3"
  },
  "language_info": {
   "codemirror_mode": {
    "name": "ipython",
    "version": 3
   },
   "file_extension": ".py",
   "mimetype": "text/x-python",
   "name": "python",
   "nbconvert_exporter": "python",
   "pygments_lexer": "ipython3",
   "version": "3.11.2"
  }
 },
 "nbformat": 4,
 "nbformat_minor": 0
}
